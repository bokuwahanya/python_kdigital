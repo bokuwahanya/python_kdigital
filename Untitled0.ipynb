{
  "nbformat": 4,
  "nbformat_minor": 0,
  "metadata": {
    "colab": {
      "provenance": [],
      "authorship_tag": "ABX9TyMKuD7vSC0Zkzf+QTWDC+6z",
      "include_colab_link": true
    },
    "kernelspec": {
      "name": "python3",
      "display_name": "Python 3"
    },
    "language_info": {
      "name": "python"
    }
  },
  "cells": [
    {
      "cell_type": "markdown",
      "metadata": {
        "id": "view-in-github",
        "colab_type": "text"
      },
      "source": [
        "<a href=\"https://colab.research.google.com/github/bokuwahanya/python_kdigital/blob/main/Untitled0.ipynb\" target=\"_parent\"><img src=\"https://colab.research.google.com/assets/colab-badge.svg\" alt=\"Open In Colab\"/></a>"
      ]
    },
    {
      "cell_type": "code",
      "execution_count": null,
      "metadata": {
        "id": "x2dAxyGYs0Io"
      },
      "outputs": [],
      "source": [
        "data ={\n",
        "    'a' : 1,\n",
        "    'b' : 2.\n",
        "}\n",
        "data"
      ]
    },
    {
      "cell_type": "code",
      "source": [
        "from pickle import TRUE\n",
        "n = 0\n",
        "b_N = True\n",
        "\n",
        "while b_N:\n",
        "   print(n)\n",
        "   n += 1\n",
        "  # if n==5:\n",
        "  # n_N = False\n",
        "  # if n == 5:\n",
        "    # continue\n",
        "   if n == 5:\n",
        "    break"
      ],
      "metadata": {
        "id": "7ws7YInw2K5M",
        "colab": {
          "base_uri": "https://localhost:8080/"
        },
        "outputId": "f1a9bb05-a9a1-413c-f892-756eb2cf1eea"
      },
      "execution_count": 7,
      "outputs": [
        {
          "output_type": "stream",
          "name": "stdout",
          "text": [
            "0\n",
            "1\n",
            "2\n",
            "3\n",
            "4\n"
          ]
        }
      ]
    },
    {
      "cell_type": "code",
      "source": [
        "a = [1,2,3]\n",
        "b = []\n",
        "N = len(a)\n",
        "\n",
        "for _ in range(3):\n",
        "  #p = a.pop()\n",
        "  b.append(a[-1])\n",
        "  del a[-1]\n",
        "\n",
        "a, b"
      ],
      "metadata": {
        "colab": {
          "base_uri": "https://localhost:8080/"
        },
        "id": "Kpqgfe9l3bdd",
        "outputId": "e7e29135-0f4f-4286-d5fe-6c2517db0fe7"
      },
      "execution_count": 9,
      "outputs": [
        {
          "output_type": "execute_result",
          "data": {
            "text/plain": [
              "([], [3, 2, 1])"
            ]
          },
          "metadata": {},
          "execution_count": 9
        }
      ]
    },
    {
      "cell_type": "code",
      "source": [
        "a = [1,2,3]\n",
        "b =[]\n",
        "\n",
        "while True:\n",
        "  if a == []: break\n",
        "  p = a.pop()\n",
        "  b.append(p)\n",
        "\n",
        "a, b\n",
        "\n",
        "## 리스트는 del은 하나 만 지운다\n",
        "a = [1,2,3,4,3,2]\n",
        "b = []\n",
        "\n",
        "while a:\n",
        "  p = a.pop()\n",
        "  b.append(p)\n",
        "\n",
        "a, b\n"
      ],
      "metadata": {
        "colab": {
          "base_uri": "https://localhost:8080/"
        },
        "id": "uS4kDxVz437t",
        "outputId": "2b535108-dc35-4f46-d833-5f8924140ac0"
      },
      "execution_count": 15,
      "outputs": [
        {
          "output_type": "execute_result",
          "data": {
            "text/plain": [
              "([], [3, 2, 1])"
            ]
          },
          "metadata": {},
          "execution_count": 15
        }
      ]
    },
    {
      "cell_type": "code",
      "source": [
        "d1 = {}\n",
        "d1['정원'] = list(map(int, input().split()))\n",
        "d1\n"
      ],
      "metadata": {
        "colab": {
          "base_uri": "https://localhost:8080/"
        },
        "id": "N9awnDb_6y5u",
        "outputId": "69ebbd7f-5946-4bcc-f68a-fdc15f49f7ac"
      },
      "execution_count": 18,
      "outputs": [
        {
          "name": "stdout",
          "output_type": "stream",
          "text": [
            "1 2 3 4 5\n"
          ]
        },
        {
          "output_type": "execute_result",
          "data": {
            "text/plain": [
              "{'정원': [1, 2, 3, 4, 5]}"
            ]
          },
          "metadata": {},
          "execution_count": 18
        }
      ]
    }
  ]
}